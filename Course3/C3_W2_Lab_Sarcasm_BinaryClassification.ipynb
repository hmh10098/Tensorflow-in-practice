{
  "nbformat": 4,
  "nbformat_minor": 0,
  "metadata": {
    "colab": {
      "name": "C3_W2_Lab_Sarcasm_BinaryClassification.ipynb",
      "provenance": []
    },
    "kernelspec": {
      "name": "python3",
      "display_name": "Python 3"
    },
    "language_info": {
      "name": "python"
    }
  },
  "cells": [
    {
      "cell_type": "code",
      "execution_count": 1,
      "metadata": {
        "id": "oNNVG_8qFYKZ"
      },
      "outputs": [],
      "source": [
        "import json\n",
        "import tensorflow as tf\n",
        "\n",
        "from tensorflow.keras.preprocessing.text import Tokenizer\n",
        "from tensorflow.keras.preprocessing.sequence import pad_sequences"
      ]
    },
    {
      "cell_type": "code",
      "source": [
        "vocab_size = 10000\n",
        "embedding_dim = 16\n",
        "max_length = 100\n",
        "trunc_type='post'\n",
        "padding_type='post'\n",
        "oov_tok = \"<OOV>\"\n",
        "training_size = 2000"
      ],
      "metadata": {
        "id": "udbXsi3NFcc7"
      },
      "execution_count": 2,
      "outputs": []
    },
    {
      "cell_type": "code",
      "source": [
        "!gdown --id 1xRU3xY5-tkiPGvlz5xBJ18_pHWSRzI4v\n"
      ],
      "metadata": {
        "colab": {
          "base_uri": "https://localhost:8080/"
        },
        "id": "50M-meqzFgMf",
        "outputId": "d21740fc-32c8-40eb-ebbc-85f8b925395d"
      },
      "execution_count": 3,
      "outputs": [
        {
          "output_type": "stream",
          "name": "stdout",
          "text": [
            "Downloading...\n",
            "From: https://drive.google.com/uc?id=1xRU3xY5-tkiPGvlz5xBJ18_pHWSRzI4v\n",
            "To: /content/sarcasm.json\n",
            "\r  0% 0.00/5.64M [00:00<?, ?B/s]\r100% 5.64M/5.64M [00:00<00:00, 49.7MB/s]\n"
          ]
        }
      ]
    },
    {
      "cell_type": "code",
      "source": [
        "with open(\"./sarcasm.json\", 'r') as f:\n",
        "    datastore = json.load(f)\n",
        "\n",
        "sentences = []\n",
        "labels = []\n",
        "\n",
        "for item in datastore:\n",
        "    sentences.append(item['headline'])\n",
        "    labels.append(item['is_sarcastic'])\n",
        "training_sentences = sentences[0:training_size]\n",
        "testing_sentences = sentences[training_size:]\n",
        "training_labels = labels[0:training_size]\n",
        "testing_labels = labels[training_size:]\n",
        "tokenizer = Tokenizer(num_words=vocab_size, oov_token=oov_tok)\n",
        "tokenizer.fit_on_texts(training_sentences)\n",
        "\n",
        "word_index = tokenizer.word_index\n",
        "\n",
        "training_sequences = tokenizer.texts_to_sequences(training_sentences)\n",
        "training_padded = pad_sequences(training_sequences, maxlen=max_length, padding=padding_type, truncating=trunc_type)\n",
        "\n",
        "testing_sequences = tokenizer.texts_to_sequences(testing_sentences)\n",
        "testing_padded = pad_sequences(testing_sequences, maxlen=max_length, padding=padding_type, truncating=trunc_type)"
      ],
      "metadata": {
        "id": "fSu82JcsFhAe"
      },
      "execution_count": 4,
      "outputs": []
    },
    {
      "cell_type": "code",
      "source": [
        "import numpy as np\n",
        "training_padded = np.array(training_padded)\n",
        "training_labels = np.array(training_labels)\n",
        "testing_padded = np.array(testing_padded)\n",
        "testing_labels = np.array(testing_labels)"
      ],
      "metadata": {
        "id": "-YP4adENFjrP"
      },
      "execution_count": 5,
      "outputs": []
    },
    {
      "cell_type": "code",
      "source": [
        "model = tf.keras.Sequential([\n",
        "    tf.keras.layers.Embedding(vocab_size, embedding_dim, input_length=max_length),\n",
        "    tf.keras.layers.GlobalAveragePooling1D(),\n",
        "    tf.keras.layers.Dense(24, activation='relu'),\n",
        "    tf.keras.layers.Dense(1, activation='sigmoid')\n",
        "])\n",
        "model.compile(loss='binary_crossentropy',optimizer='adam',metrics=['accuracy'])"
      ],
      "metadata": {
        "id": "qHdYkr-FFlKo"
      },
      "execution_count": 6,
      "outputs": []
    },
    {
      "cell_type": "code",
      "source": [
        "model.summary()\n"
      ],
      "metadata": {
        "colab": {
          "base_uri": "https://localhost:8080/"
        },
        "id": "6PGtVW00Fm94",
        "outputId": "66b92da1-7a7a-4105-93ad-20b325ac0960"
      },
      "execution_count": 7,
      "outputs": [
        {
          "output_type": "stream",
          "name": "stdout",
          "text": [
            "Model: \"sequential\"\n",
            "_________________________________________________________________\n",
            " Layer (type)                Output Shape              Param #   \n",
            "=================================================================\n",
            " embedding (Embedding)       (None, 100, 16)           160000    \n",
            "                                                                 \n",
            " global_average_pooling1d (G  (None, 16)               0         \n",
            " lobalAveragePooling1D)                                          \n",
            "                                                                 \n",
            " dense (Dense)               (None, 24)                408       \n",
            "                                                                 \n",
            " dense_1 (Dense)             (None, 1)                 25        \n",
            "                                                                 \n",
            "=================================================================\n",
            "Total params: 160,433\n",
            "Trainable params: 160,433\n",
            "Non-trainable params: 0\n",
            "_________________________________________________________________\n"
          ]
        }
      ]
    },
    {
      "cell_type": "code",
      "source": [
        "num_epochs = 30\n",
        "history = model.fit(training_padded, training_labels, epochs=num_epochs, validation_data=(testing_padded, testing_labels), verbose=2)"
      ],
      "metadata": {
        "colab": {
          "base_uri": "https://localhost:8080/"
        },
        "id": "_8MpA6MeFp72",
        "outputId": "9d190424-c39b-4010-c006-e1ec05be46b7"
      },
      "execution_count": 8,
      "outputs": [
        {
          "output_type": "stream",
          "name": "stdout",
          "text": [
            "Epoch 1/30\n",
            "63/63 - 3s - loss: 0.6890 - accuracy: 0.5580 - val_loss: 0.6858 - val_accuracy: 0.5613 - 3s/epoch - 45ms/step\n",
            "Epoch 2/30\n",
            "63/63 - 3s - loss: 0.6854 - accuracy: 0.5580 - val_loss: 0.6841 - val_accuracy: 0.5613 - 3s/epoch - 46ms/step\n",
            "Epoch 3/30\n",
            "63/63 - 1s - loss: 0.6830 - accuracy: 0.5580 - val_loss: 0.6824 - val_accuracy: 0.5613 - 1s/epoch - 23ms/step\n",
            "Epoch 4/30\n",
            "63/63 - 1s - loss: 0.6799 - accuracy: 0.5580 - val_loss: 0.6797 - val_accuracy: 0.5613 - 1s/epoch - 23ms/step\n",
            "Epoch 5/30\n",
            "63/63 - 1s - loss: 0.6725 - accuracy: 0.5580 - val_loss: 0.6739 - val_accuracy: 0.5613 - 919ms/epoch - 15ms/step\n",
            "Epoch 6/30\n",
            "63/63 - 1s - loss: 0.6591 - accuracy: 0.5580 - val_loss: 0.6630 - val_accuracy: 0.5613 - 908ms/epoch - 14ms/step\n",
            "Epoch 7/30\n",
            "63/63 - 1s - loss: 0.6328 - accuracy: 0.5760 - val_loss: 0.6422 - val_accuracy: 0.5789 - 1s/epoch - 23ms/step\n",
            "Epoch 8/30\n",
            "63/63 - 1s - loss: 0.5886 - accuracy: 0.6670 - val_loss: 0.6130 - val_accuracy: 0.6586 - 893ms/epoch - 14ms/step\n",
            "Epoch 9/30\n",
            "63/63 - 1s - loss: 0.5313 - accuracy: 0.7785 - val_loss: 0.5801 - val_accuracy: 0.6884 - 1s/epoch - 23ms/step\n",
            "Epoch 10/30\n",
            "63/63 - 1s - loss: 0.4694 - accuracy: 0.8690 - val_loss: 0.5486 - val_accuracy: 0.7191 - 1s/epoch - 18ms/step\n",
            "Epoch 11/30\n",
            "63/63 - 3s - loss: 0.4026 - accuracy: 0.9295 - val_loss: 0.5275 - val_accuracy: 0.7202 - 3s/epoch - 46ms/step\n",
            "Epoch 12/30\n",
            "63/63 - 1s - loss: 0.3423 - accuracy: 0.9535 - val_loss: 0.4914 - val_accuracy: 0.7838 - 1s/epoch - 17ms/step\n",
            "Epoch 13/30\n",
            "63/63 - 1s - loss: 0.2881 - accuracy: 0.9675 - val_loss: 0.4732 - val_accuracy: 0.7875 - 1s/epoch - 23ms/step\n",
            "Epoch 14/30\n",
            "63/63 - 1s - loss: 0.2419 - accuracy: 0.9725 - val_loss: 0.4559 - val_accuracy: 0.7996 - 898ms/epoch - 14ms/step\n",
            "Epoch 15/30\n",
            "63/63 - 3s - loss: 0.2044 - accuracy: 0.9770 - val_loss: 0.4456 - val_accuracy: 0.8024 - 3s/epoch - 45ms/step\n",
            "Epoch 16/30\n",
            "63/63 - 1s - loss: 0.1710 - accuracy: 0.9805 - val_loss: 0.4436 - val_accuracy: 0.7955 - 1s/epoch - 23ms/step\n",
            "Epoch 17/30\n",
            "63/63 - 1s - loss: 0.1451 - accuracy: 0.9830 - val_loss: 0.4367 - val_accuracy: 0.8004 - 1s/epoch - 23ms/step\n",
            "Epoch 18/30\n",
            "63/63 - 1s - loss: 0.1239 - accuracy: 0.9875 - val_loss: 0.4395 - val_accuracy: 0.7953 - 889ms/epoch - 14ms/step\n",
            "Epoch 19/30\n",
            "63/63 - 1s - loss: 0.1069 - accuracy: 0.9895 - val_loss: 0.4340 - val_accuracy: 0.8004 - 1s/epoch - 23ms/step\n",
            "Epoch 20/30\n",
            "63/63 - 3s - loss: 0.0916 - accuracy: 0.9905 - val_loss: 0.4392 - val_accuracy: 0.7964 - 3s/epoch - 44ms/step\n",
            "Epoch 21/30\n",
            "63/63 - 3s - loss: 0.0799 - accuracy: 0.9920 - val_loss: 0.4367 - val_accuracy: 0.7996 - 3s/epoch - 45ms/step\n",
            "Epoch 22/30\n",
            "63/63 - 2s - loss: 0.0695 - accuracy: 0.9940 - val_loss: 0.4403 - val_accuracy: 0.7974 - 2s/epoch - 26ms/step\n",
            "Epoch 23/30\n",
            "63/63 - 1s - loss: 0.0610 - accuracy: 0.9945 - val_loss: 0.4467 - val_accuracy: 0.7944 - 1s/epoch - 23ms/step\n",
            "Epoch 24/30\n",
            "63/63 - 1s - loss: 0.0530 - accuracy: 0.9950 - val_loss: 0.4459 - val_accuracy: 0.7978 - 1s/epoch - 23ms/step\n",
            "Epoch 25/30\n",
            "63/63 - 1s - loss: 0.0462 - accuracy: 0.9950 - val_loss: 0.4567 - val_accuracy: 0.7927 - 1s/epoch - 23ms/step\n",
            "Epoch 26/30\n",
            "63/63 - 1s - loss: 0.0408 - accuracy: 0.9950 - val_loss: 0.4546 - val_accuracy: 0.7958 - 1s/epoch - 23ms/step\n",
            "Epoch 27/30\n",
            "63/63 - 1s - loss: 0.0382 - accuracy: 0.9955 - val_loss: 0.4638 - val_accuracy: 0.7935 - 1s/epoch - 23ms/step\n",
            "Epoch 28/30\n",
            "63/63 - 2s - loss: 0.0318 - accuracy: 0.9970 - val_loss: 0.4717 - val_accuracy: 0.7917 - 2s/epoch - 26ms/step\n",
            "Epoch 29/30\n",
            "63/63 - 1s - loss: 0.0280 - accuracy: 0.9980 - val_loss: 0.4953 - val_accuracy: 0.7828 - 945ms/epoch - 15ms/step\n",
            "Epoch 30/30\n",
            "63/63 - 1s - loss: 0.0256 - accuracy: 0.9985 - val_loss: 0.4786 - val_accuracy: 0.7925 - 902ms/epoch - 14ms/step\n"
          ]
        }
      ]
    },
    {
      "cell_type": "code",
      "source": [
        "import matplotlib.pyplot as plt\n",
        "\n",
        "\n",
        "def plot_graphs(history, string):\n",
        "  plt.plot(history.history[string])\n",
        "  plt.plot(history.history['val_'+string])\n",
        "  plt.xlabel(\"Epochs\")\n",
        "  plt.ylabel(string)\n",
        "  plt.legend([string, 'val_'+string])\n",
        "  plt.show()\n",
        "  \n",
        "plot_graphs(history, \"accuracy\")\n",
        "plot_graphs(history, \"loss\")\n"
      ],
      "metadata": {
        "colab": {
          "base_uri": "https://localhost:8080/",
          "height": 541
        },
        "id": "Q4pqy38MFr-H",
        "outputId": "55bc8bcd-ee0d-4176-df0b-b1dc3477b50e"
      },
      "execution_count": 9,
      "outputs": [
        {
          "output_type": "display_data",
          "data": {
            "image/png": "[encoded data removed]",
            "text/plain": [
              "<Figure size 432x288 with 1 Axes>"
            ]
          },
          "metadata": {
            "needs_background": "light"
          }
        },
        {
          "output_type": "display_data",
          "data": {
            "image/png": "[encoded data removed]",
            "text/plain": [
              "<Figure size 432x288 with 1 Axes>"
            ]
          },
          "metadata": {
            "needs_background": "light"
          }
        }
      ]
    },
    {
      "cell_type": "code",
      "source": [
        "reverse_word_index = dict([(value, key) for (key, value) in word_index.items()])\n",
        "\n",
        "def decode_sentence(text):\n",
        "    return ' '.join([reverse_word_index.get(i, '?') for i in text])\n",
        "\n",
        "print(decode_sentence(training_padded[0]))\n",
        "print(training_sentences[2])\n",
        "print(labels[2])"
      ],
      "metadata": {
        "colab": {
          "base_uri": "https://localhost:8080/"
        },
        "id": "J1-otosYFxYt",
        "outputId": "648498ef-81e0-4e8d-fd7b-27e47288d363"
      },
      "execution_count": 10,
      "outputs": [
        {
          "output_type": "stream",
          "name": "stdout",
          "text": [
            "former versace store clerk sues over secret 'black code' for minority shoppers ? ? ? ? ? ? ? ? ? ? ? ? ? ? ? ? ? ? ? ? ? ? ? ? ? ? ? ? ? ? ? ? ? ? ? ? ? ? ? ? ? ? ? ? ? ? ? ? ? ? ? ? ? ? ? ? ? ? ? ? ? ? ? ? ? ? ? ? ? ? ? ? ? ? ? ? ? ? ? ? ? ? ? ? ? ? ? ?\n",
            "mom starting to fear son's web series closest thing she will have to grandchild\n",
            "1\n"
          ]
        }
      ]
    },
    {
      "cell_type": "code",
      "source": [
        "e = model.layers[0]\n",
        "weights = e.get_weights()[0]\n",
        "print(weights.shape) # shape: (vocab_size, embedding_dim)"
      ],
      "metadata": {
        "colab": {
          "base_uri": "https://localhost:8080/"
        },
        "id": "J5GxrahlFzSR",
        "outputId": "accc6146-e577-4f99-d250-195b7c4251d3"
      },
      "execution_count": 11,
      "outputs": [
        {
          "output_type": "stream",
          "name": "stdout",
          "text": [
            "(10000, 16)\n"
          ]
        }
      ]
    },
    {
      "cell_type": "code",
      "source": [
        "import io\n",
        "\n",
        "out_v = io.open('vecs.tsv', 'w', encoding='utf-8')\n",
        "out_m = io.open('meta.tsv', 'w', encoding='utf-8')\n",
        "for word_num in range(1, vocab_size):\n",
        "  word = reverse_word_index[word_num]\n",
        "  embeddings = weights[word_num]\n",
        "  out_m.write(word + \"\\n\")\n",
        "  out_v.write('\\t'.join([str(x) for x in embeddings]) + \"\\n\")\n",
        "out_v.close()\n",
        "out_m.close()"
      ],
      "metadata": {
        "colab": {
          "base_uri": "https://localhost:8080/",
          "height": 235
        },
        "id": "HvjuSaxQF0Tw",
        "outputId": "6f41f73d-50d3-4609-8a26-d399daf44480"
      },
      "execution_count": 14,
      "outputs": [
        {
          "output_type": "error",
          "ename": "KeyError",
          "evalue": "ignored",
          "traceback": [
            "\u001b[0;31m---------------------------------------------------------------------------\u001b[0m",
            "\u001b[0;31mKeyError\u001b[0m                                  Traceback (most recent call last)",
            "\u001b[0;32m<ipython-input-14-61dde92dd38a>\u001b[0m in \u001b[0;36m<module>\u001b[0;34m()\u001b[0m\n\u001b[1;32m      4\u001b[0m \u001b[0mout_m\u001b[0m \u001b[0;34m=\u001b[0m \u001b[0mio\u001b[0m\u001b[0;34m.\u001b[0m\u001b[0mopen\u001b[0m\u001b[0;34m(\u001b[0m\u001b[0;34m'meta.tsv'\u001b[0m\u001b[0;34m,\u001b[0m \u001b[0;34m'w'\u001b[0m\u001b[0;34m,\u001b[0m \u001b[0mencoding\u001b[0m\u001b[0;34m=\u001b[0m\u001b[0;34m'utf-8'\u001b[0m\u001b[0;34m)\u001b[0m\u001b[0;34m\u001b[0m\u001b[0;34m\u001b[0m\u001b[0m\n\u001b[1;32m      5\u001b[0m \u001b[0;32mfor\u001b[0m \u001b[0mword_num\u001b[0m \u001b[0;32min\u001b[0m \u001b[0mrange\u001b[0m\u001b[0;34m(\u001b[0m\u001b[0;36m1\u001b[0m\u001b[0;34m,\u001b[0m \u001b[0mvocab_size\u001b[0m\u001b[0;34m)\u001b[0m\u001b[0;34m:\u001b[0m\u001b[0;34m\u001b[0m\u001b[0;34m\u001b[0m\u001b[0m\n\u001b[0;32m----> 6\u001b[0;31m   \u001b[0mword\u001b[0m \u001b[0;34m=\u001b[0m \u001b[0mreverse_word_index\u001b[0m\u001b[0;34m[\u001b[0m\u001b[0mword_num\u001b[0m\u001b[0;34m]\u001b[0m\u001b[0;34m\u001b[0m\u001b[0;34m\u001b[0m\u001b[0m\n\u001b[0m\u001b[1;32m      7\u001b[0m   \u001b[0membeddings\u001b[0m \u001b[0;34m=\u001b[0m \u001b[0mweights\u001b[0m\u001b[0;34m[\u001b[0m\u001b[0mword_num\u001b[0m\u001b[0;34m]\u001b[0m\u001b[0;34m\u001b[0m\u001b[0;34m\u001b[0m\u001b[0m\n\u001b[1;32m      8\u001b[0m   \u001b[0mout_m\u001b[0m\u001b[0;34m.\u001b[0m\u001b[0mwrite\u001b[0m\u001b[0;34m(\u001b[0m\u001b[0mword\u001b[0m \u001b[0;34m+\u001b[0m \u001b[0;34m\"\\n\"\u001b[0m\u001b[0;34m)\u001b[0m\u001b[0;34m\u001b[0m\u001b[0;34m\u001b[0m\u001b[0m\n",
            "\u001b[0;31mKeyError\u001b[0m: 6855"
          ]
        }
      ]
    },
    {
      "cell_type": "code",
      "source": [
        "try:\n",
        "  from google.colab import files\n",
        "except ImportError:\n",
        "  pass\n",
        "else:\n",
        "  files.download('vecs.tsv')\n",
        "  files.download('meta.tsv')"
      ],
      "metadata": {
        "id": "UwBlVhZOF22a"
      },
      "execution_count": null,
      "outputs": []
    },
    {
      "cell_type": "code",
      "source": [
        "sentence = [\"granny starting to fear spiders in the garden might be real\", \"game of thrones season finale showing this sunday night\"]\n",
        "sequences = tokenizer.texts_to_sequences(sentence)\n",
        "padded = pad_sequences(sequences, maxlen=max_length, padding=padding_type, truncating=trunc_type)\n",
        "print(model.predict(padded))"
      ],
      "metadata": {
        "id": "90naPKf9F4B1"
      },
      "execution_count": null,
      "outputs": []
    },
    {
      "cell_type": "code",
      "source": [
        ""
      ],
      "metadata": {
        "id": "OCSmNQgZGBKk"
      },
      "execution_count": null,
      "outputs": []
    }
  ]
}