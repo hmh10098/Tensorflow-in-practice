{
  "nbformat": 4,
  "nbformat_minor": 0,
  "metadata": {
    "colab": {
      "name": "Wee4_Multiclassification.ipynb",
      "provenance": []
    },
    "kernelspec": {
      "name": "python3",
      "display_name": "Python 3"
    },
    "language_info": {
      "name": "python"
    },
    "accelerator": "GPU"
  },
  "cells": [
    {
      "cell_type": "code",
      "execution_count": 1,
      "metadata": {
        "id": "uLCXFF5vNsu4"
      },
      "outputs": [],
      "source": [
        "import csv\n",
        "import numpy as np\n",
        "import tensorflow as tf\n",
        "from tensorflow.keras.preprocessing.image import ImageDataGenerator\n",
        "from google.colab import files"
      ]
    },
    {
      "cell_type": "code",
      "source": [
        "!gdown --id 1z0DkA9BytlLxO1C0BAWzknLyQmZAp0HR\n",
        "# sign_mnist_test.csv\n",
        "!gdown --id 1z1BIj4qmri59GWBG4ivMNFtpZ4AXIbzg\n",
        "\n",
        "def get_data(filename):\n",
        "  # You will need to write code that will read the file passed\n",
        "  # into this function. The first line contains the column headers\n",
        "  # so you should ignore it\n",
        "  # Each successive line contians 785 comma separated values between 0 and 255\n",
        "  # The first value is the label\n",
        "  # The rest are the pixel values for that picture\n",
        "  # The function will return 2 np.array types. One with all the labels\n",
        "  # One with all the images\n",
        "  #\n",
        "  # Tips: \n",
        "  # If you read a full line (as 'row') then row[0] has the label\n",
        "  # and row[1:785] has the 784 pixel values\n",
        "  # Take a look at np.array_split to turn the 784 pixels into 28x28\n",
        "  # You are reading in strings, but need the values to be floats\n",
        "  # Check out np.array().astype for a conversion  \n",
        "    with open(filename) as training_file:\n",
        "        ### START CODE HERE\n",
        "        \n",
        "        csv_reader = csv.reader(training_file, delimiter=',')\n",
        "        first_line = True\n",
        "        temp_images = []\n",
        "        temp_labels = []\n",
        "        for row in csv_reader:\n",
        "            if first_line:\n",
        "                # print(\"Ignoring first line\")\n",
        "                first_line = False\n",
        "            else:\n",
        "                temp_labels.append(row[0])\n",
        "                image_data = row[1:785]\n",
        "                image_data_as_array = np.array_split(image_data, 28)\n",
        "                temp_images.append(image_data_as_array)\n",
        "        images = np.array(temp_images).astype('float')\n",
        "        labels = np.array(temp_labels).astype('float')\n",
        "\n",
        "        ### END CODE HERE\n",
        "    return images, labels\n",
        "\n",
        "\n",
        "training_images, training_labels = get_data('./sign_mnist_train.csv')\n",
        "testing_images, testing_labels = get_data('./sign_mnist_test.csv')\n",
        "\n",
        "print(training_images.shape)\n",
        "print(training_labels.shape)\n",
        "print(testing_images.shape)\n",
        "print(testing_labels.shape)\n"
      ],
      "metadata": {
        "colab": {
          "base_uri": "https://localhost:8080/"
        },
        "id": "1gZ4MGwWN5qG",
        "outputId": "2ec06c37-0687-4cd3-ee06-1af158932355"
      },
      "execution_count": 2,
      "outputs": [
        {
          "output_type": "stream",
          "name": "stdout",
          "text": [
            "Downloading...\n",
            "From: https://drive.google.com/uc?id=1z0DkA9BytlLxO1C0BAWzknLyQmZAp0HR\n",
            "To: /content/sign_mnist_train.csv\n",
            "100% 83.3M/83.3M [00:00<00:00, 177MB/s]\n",
            "Downloading...\n",
            "From: https://drive.google.com/uc?id=1z1BIj4qmri59GWBG4ivMNFtpZ4AXIbzg\n",
            "To: /content/sign_mnist_test.csv\n",
            "100% 21.8M/21.8M [00:00<00:00, 128MB/s]\n",
            "(27455, 28, 28)\n",
            "(27455,)\n",
            "(7172, 28, 28)\n",
            "(7172,)\n"
          ]
        }
      ]
    },
    {
      "cell_type": "code",
      "source": [
        "training_images = np.expand_dims(training_images, axis=3) ### YOUR CODE HERE\n",
        "testing_images = np.expand_dims(testing_images, axis=3) ### YOUR CODE HERE\n",
        "\n",
        "train_datagen = ImageDataGenerator(\n",
        "    ### YOUR CODE HERE\n",
        "    rescale=1. / 255,\n",
        "    rotation_range=40,\n",
        "    width_shift_range=0.2,\n",
        "    height_shift_range=0.2,\n",
        "    shear_range=0.2,\n",
        "    zoom_range=0.2,\n",
        "    horizontal_flip=True,\n",
        "    fill_mode='nearest'\n",
        "    )\n",
        "\n",
        "\n",
        "validation_datagen = ImageDataGenerator(\n",
        "    ### YOUR CODE HERE\n",
        "    rescale=1. / 255\n",
        "    )\n",
        "\n",
        "# Keep These\n",
        "print(training_images.shape)\n",
        "print(testing_images.shape)"
      ],
      "metadata": {
        "colab": {
          "base_uri": "https://localhost:8080/"
        },
        "id": "S3TivOMmN7mW",
        "outputId": "75922a5c-e167-4e17-ef82-7a30ae0812c4"
      },
      "execution_count": 3,
      "outputs": [
        {
          "output_type": "stream",
          "name": "stdout",
          "text": [
            "(27455, 28, 28, 1)\n",
            "(7172, 28, 28, 1)\n"
          ]
        }
      ]
    },
    {
      "cell_type": "code",
      "source": [
        "model = tf.keras.models.Sequential([\n",
        "    ### START CODE HERE                                \n",
        "    tf.keras.layers.Conv2D(64, (3, 3), activation='relu', input_shape=(28, 28, 1)),\n",
        "    tf.keras.layers.MaxPooling2D(2, 2),\n",
        "    tf.keras.layers.Conv2D(64, (3, 3), activation='relu'),\n",
        "    tf.keras.layers.MaxPooling2D(2, 2),\n",
        "    tf.keras.layers.Flatten(),\n",
        "    tf.keras.layers.Dense(128, activation=tf.nn.relu),\n",
        "    tf.keras.layers.Dense(26, activation=tf.nn.softmax)]\n",
        "    ### END CODE HERE\n",
        "    )\n",
        "\n",
        "model.compile(optimizer = tf.optimizers.Adam(), ### YOUR CODE HERE)\n",
        "              loss = 'sparse_categorical_crossentropy',\n",
        "              metrics=['accuracy'])\n",
        "\n",
        "history = model.fit(train_datagen.flow(training_images, training_labels, batch_size=32), ### YOUR CODE HERE)\n",
        "                              steps_per_epoch=len(training_images) / 32,\n",
        "                              epochs=15,\n",
        "                              validation_data=validation_datagen.flow(testing_images, testing_labels, batch_size=32),\n",
        "                              validation_steps=len(testing_images) / 32)\n",
        "\n",
        "model.evaluate(testing_images, testing_labels)"
      ],
      "metadata": {
        "colab": {
          "base_uri": "https://localhost:8080/"
        },
        "id": "oK21fAtwN9a9",
        "outputId": "63517a2e-cc72-4c0a-f62d-b8aa7bc01758"
      },
      "execution_count": 4,
      "outputs": [
        {
          "output_type": "stream",
          "name": "stdout",
          "text": [
            "Epoch 1/15\n",
            "857/857 [==============================] - 19s 12ms/step - loss: 2.8525 - accuracy: 0.1341 - val_loss: 1.9591 - val_accuracy: 0.3797\n",
            "Epoch 2/15\n",
            "857/857 [==============================] - 10s 12ms/step - loss: 2.1604 - accuracy: 0.3101 - val_loss: 1.6139 - val_accuracy: 0.4552\n",
            "Epoch 3/15\n",
            "857/857 [==============================] - 10s 12ms/step - loss: 1.8174 - accuracy: 0.4198 - val_loss: 1.4673 - val_accuracy: 0.5148\n",
            "Epoch 4/15\n",
            "857/857 [==============================] - 11s 12ms/step - loss: 1.5765 - accuracy: 0.4919 - val_loss: 0.9902 - val_accuracy: 0.6364\n",
            "Epoch 5/15\n",
            "857/857 [==============================] - 10s 12ms/step - loss: 1.4030 - accuracy: 0.5477 - val_loss: 0.8284 - val_accuracy: 0.7105\n",
            "Epoch 6/15\n",
            "857/857 [==============================] - 12s 14ms/step - loss: 1.2869 - accuracy: 0.5780 - val_loss: 0.7239 - val_accuracy: 0.7538\n",
            "Epoch 7/15\n",
            "857/857 [==============================] - 11s 13ms/step - loss: 1.1922 - accuracy: 0.6106 - val_loss: 0.6560 - val_accuracy: 0.7886\n",
            "Epoch 8/15\n",
            "857/857 [==============================] - 10s 12ms/step - loss: 1.1256 - accuracy: 0.6304 - val_loss: 0.7214 - val_accuracy: 0.7575\n",
            "Epoch 9/15\n",
            "857/857 [==============================] - 11s 12ms/step - loss: 1.0473 - accuracy: 0.6553 - val_loss: 0.7069 - val_accuracy: 0.7493\n",
            "Epoch 10/15\n",
            "857/857 [==============================] - 11s 13ms/step - loss: 1.0021 - accuracy: 0.6659 - val_loss: 0.5314 - val_accuracy: 0.8279\n",
            "Epoch 11/15\n",
            "857/857 [==============================] - 10s 12ms/step - loss: 0.9466 - accuracy: 0.6877 - val_loss: 0.5048 - val_accuracy: 0.8345\n",
            "Epoch 12/15\n",
            "857/857 [==============================] - 10s 12ms/step - loss: 0.9127 - accuracy: 0.6957 - val_loss: 0.5274 - val_accuracy: 0.8161\n",
            "Epoch 13/15\n",
            "857/857 [==============================] - 11s 12ms/step - loss: 0.8699 - accuracy: 0.7117 - val_loss: 0.5663 - val_accuracy: 0.7987\n",
            "Epoch 14/15\n",
            "857/857 [==============================] - 11s 12ms/step - loss: 0.8286 - accuracy: 0.7227 - val_loss: 0.4835 - val_accuracy: 0.8279\n",
            "Epoch 15/15\n",
            "857/857 [==============================] - 11s 12ms/step - loss: 0.8176 - accuracy: 0.7256 - val_loss: 0.5044 - val_accuracy: 0.8201\n",
            "225/225 [==============================] - 1s 3ms/step - loss: 285.4357 - accuracy: 0.4994\n"
          ]
        },
        {
          "output_type": "execute_result",
          "data": {
            "text/plain": [
              "[285.43572998046875, 0.49944227933883667]"
            ]
          },
          "metadata": {},
          "execution_count": 4
        }
      ]
    },
    {
      "cell_type": "code",
      "source": [
        "import matplotlib.pyplot as plt\n",
        "acc = history.history['accuracy'] ### YOUR CODE HERE\n",
        "val_acc = history.history['val_accuracy'] ### YOUR CODE HERE\n",
        "loss = history.history['loss'] ### YOUR CODE HERE\n",
        "val_loss = history.history['val_loss'] ### YOUR CODE HERE\n",
        "\n",
        "epochs = range(len(acc))\n",
        "\n",
        "plt.plot(epochs, acc, 'r', label='Training accuracy')\n",
        "plt.plot(epochs, val_acc, 'b', label='Validation accuracy')\n",
        "plt.title('Training and validation accuracy')\n",
        "plt.legend()\n",
        "plt.figure()\n",
        "\n",
        "plt.plot(epochs, loss, 'r', label='Training Loss')\n",
        "plt.plot(epochs, val_loss, 'b', label='Validation Loss')\n",
        "plt.title('Training and validation loss')\n",
        "plt.legend()\n",
        "\n",
        "plt.show()"
      ],
      "metadata": {
        "colab": {
          "base_uri": "https://localhost:8080/",
          "height": 545
        },
        "id": "CbazstewN-78",
        "outputId": "dc4cc1a0-62c7-4c48-d4aa-73a7ca7b9130"
      },
      "execution_count": 5,
      "outputs": [
        {
          "output_type": "display_data",
          "data": {
            "image/png": "[encoded data removed]",
            "text/plain": [
              "<Figure size 432x288 with 1 Axes>"
            ]
          },
          "metadata": {
            "needs_background": "light"
          }
        },
        {
          "output_type": "display_data",
          "data": {
            "image/png": "[encoded data removed]",
            "text/plain": [
              "<Figure size 432x288 with 1 Axes>"
            ]
          },
          "metadata": {
            "needs_background": "light"
          }
        }
      ]
    },
    {
      "cell_type": "code",
      "source": [
        ""
      ],
      "metadata": {
        "id": "yERst-88OBLA"
      },
      "execution_count": null,
      "outputs": []
    }
  ]
}